{
  "cells": [
    {
      "cell_type": "markdown",
      "metadata": {
        "id": "bxpkQr0k8-NV"
      },
      "source": [
        "#Instalar as bibliotecas"
      ]
    },
    {
      "cell_type": "code",
      "execution_count": 2,
      "metadata": {
        "colab": {
          "base_uri": "https://localhost:8080/"
        },
        "id": "lMN0bRqWipbF",
        "outputId": "f38659d1-73bf-417a-b144-9dd076a03caf"
      },
      "outputs": [
        {
          "name": "stdout",
          "output_type": "stream",
          "text": [
            "Requirement already satisfied: google-cloud-bigquery in c:\\trabalhomlops\\venv\\lib\\site-packages (3.17.2)\n",
            "Requirement already satisfied: google-api-core!=2.0.*,!=2.1.*,!=2.2.*,!=2.3.0,<3.0.0dev,>=1.31.5 in c:\\trabalhomlops\\venv\\lib\\site-packages (from google-cloud-bigquery) (2.17.0)\n",
            "Requirement already satisfied: google-cloud-core<3.0.0dev,>=1.6.0 in c:\\trabalhomlops\\venv\\lib\\site-packages (from google-cloud-bigquery) (2.4.1)\n",
            "Requirement already satisfied: google-resumable-media<3.0dev,>=0.6.0 in c:\\trabalhomlops\\venv\\lib\\site-packages (from google-cloud-bigquery) (2.7.0)\n",
            "Requirement already satisfied: packaging>=20.0.0 in c:\\trabalhomlops\\venv\\lib\\site-packages (from google-cloud-bigquery) (23.2)\n",
            "Requirement already satisfied: python-dateutil<3.0dev,>=2.7.2 in c:\\trabalhomlops\\venv\\lib\\site-packages (from google-cloud-bigquery) (2.8.2)\n",
            "Requirement already satisfied: requests<3.0.0dev,>=2.21.0 in c:\\trabalhomlops\\venv\\lib\\site-packages (from google-cloud-bigquery) (2.31.0)\n",
            "Requirement already satisfied: googleapis-common-protos<2.0.dev0,>=1.56.2 in c:\\trabalhomlops\\venv\\lib\\site-packages (from google-api-core!=2.0.*,!=2.1.*,!=2.2.*,!=2.3.0,<3.0.0dev,>=1.31.5->google-cloud-bigquery) (1.62.0)\n",
            "Requirement already satisfied: protobuf!=3.20.0,!=3.20.1,!=4.21.0,!=4.21.1,!=4.21.2,!=4.21.3,!=4.21.4,!=4.21.5,<5.0.0.dev0,>=3.19.5 in c:\\trabalhomlops\\venv\\lib\\site-packages (from google-api-core!=2.0.*,!=2.1.*,!=2.2.*,!=2.3.0,<3.0.0dev,>=1.31.5->google-cloud-bigquery) (4.25.2)\n",
            "Requirement already satisfied: google-auth<3.0.dev0,>=2.14.1 in c:\\trabalhomlops\\venv\\lib\\site-packages (from google-api-core!=2.0.*,!=2.1.*,!=2.2.*,!=2.3.0,<3.0.0dev,>=1.31.5->google-cloud-bigquery) (2.27.0)\n",
            "Requirement already satisfied: google-crc32c<2.0dev,>=1.0 in c:\\trabalhomlops\\venv\\lib\\site-packages (from google-resumable-media<3.0dev,>=0.6.0->google-cloud-bigquery) (1.5.0)\n",
            "Requirement already satisfied: six>=1.5 in c:\\trabalhomlops\\venv\\lib\\site-packages (from python-dateutil<3.0dev,>=2.7.2->google-cloud-bigquery) (1.16.0)\n",
            "Requirement already satisfied: charset-normalizer<4,>=2 in c:\\trabalhomlops\\venv\\lib\\site-packages (from requests<3.0.0dev,>=2.21.0->google-cloud-bigquery) (3.3.2)\n",
            "Requirement already satisfied: idna<4,>=2.5 in c:\\trabalhomlops\\venv\\lib\\site-packages (from requests<3.0.0dev,>=2.21.0->google-cloud-bigquery) (3.6)\n",
            "Requirement already satisfied: urllib3<3,>=1.21.1 in c:\\trabalhomlops\\venv\\lib\\site-packages (from requests<3.0.0dev,>=2.21.0->google-cloud-bigquery) (2.2.0)\n",
            "Requirement already satisfied: certifi>=2017.4.17 in c:\\trabalhomlops\\venv\\lib\\site-packages (from requests<3.0.0dev,>=2.21.0->google-cloud-bigquery) (2024.2.2)\n",
            "Requirement already satisfied: cachetools<6.0,>=2.0.0 in c:\\trabalhomlops\\venv\\lib\\site-packages (from google-auth<3.0.dev0,>=2.14.1->google-api-core!=2.0.*,!=2.1.*,!=2.2.*,!=2.3.0,<3.0.0dev,>=1.31.5->google-cloud-bigquery) (5.3.2)\n",
            "Requirement already satisfied: pyasn1-modules>=0.2.1 in c:\\trabalhomlops\\venv\\lib\\site-packages (from google-auth<3.0.dev0,>=2.14.1->google-api-core!=2.0.*,!=2.1.*,!=2.2.*,!=2.3.0,<3.0.0dev,>=1.31.5->google-cloud-bigquery) (0.3.0)\n",
            "Requirement already satisfied: rsa<5,>=3.1.4 in c:\\trabalhomlops\\venv\\lib\\site-packages (from google-auth<3.0.dev0,>=2.14.1->google-api-core!=2.0.*,!=2.1.*,!=2.2.*,!=2.3.0,<3.0.0dev,>=1.31.5->google-cloud-bigquery) (4.9)\n",
            "Requirement already satisfied: pyasn1<0.6.0,>=0.4.6 in c:\\trabalhomlops\\venv\\lib\\site-packages (from pyasn1-modules>=0.2.1->google-auth<3.0.dev0,>=2.14.1->google-api-core!=2.0.*,!=2.1.*,!=2.2.*,!=2.3.0,<3.0.0dev,>=1.31.5->google-cloud-bigquery) (0.5.1)\n"
          ]
        }
      ],
      "source": [
        "!pip install google-cloud-bigquery"
      ]
    },
    {
      "cell_type": "code",
      "execution_count": 3,
      "metadata": {
        "colab": {
          "base_uri": "https://localhost:8080/"
        },
        "id": "Yz-10joBitkS",
        "outputId": "5820f12f-fb47-4875-9410-a807d59135a3"
      },
      "outputs": [
        {
          "name": "stdout",
          "output_type": "stream",
          "text": [
            "Requirement already satisfied: joblib in c:\\trabalhomlops\\venv\\lib\\site-packages (1.3.2)\n"
          ]
        }
      ],
      "source": [
        "!pip install joblib"
      ]
    },
    {
      "cell_type": "code",
      "execution_count": 4,
      "metadata": {
        "id": "iwAbtHjYi3fs"
      },
      "outputs": [
        {
          "ename": "ModuleNotFoundError",
          "evalue": "No module named 'google.colab'",
          "output_type": "error",
          "traceback": [
            "\u001b[1;31m---------------------------------------------------------------------------\u001b[0m",
            "\u001b[1;31mModuleNotFoundError\u001b[0m                       Traceback (most recent call last)",
            "Cell \u001b[1;32mIn[4], line 2\u001b[0m\n\u001b[0;32m      1\u001b[0m \u001b[38;5;28;01mimport\u001b[39;00m \u001b[38;5;21;01mgoogle\u001b[39;00m\u001b[38;5;21;01m.\u001b[39;00m\u001b[38;5;21;01mauth\u001b[39;00m\n\u001b[1;32m----> 2\u001b[0m \u001b[38;5;28;01mfrom\u001b[39;00m \u001b[38;5;21;01mgoogle\u001b[39;00m\u001b[38;5;21;01m.\u001b[39;00m\u001b[38;5;21;01mcolab\u001b[39;00m \u001b[38;5;28;01mimport\u001b[39;00m auth\n\u001b[0;32m      3\u001b[0m \u001b[38;5;28;01mfrom\u001b[39;00m \u001b[38;5;21;01mgoogle\u001b[39;00m\u001b[38;5;21;01m.\u001b[39;00m\u001b[38;5;21;01mcloud\u001b[39;00m \u001b[38;5;28;01mimport\u001b[39;00m bigquery\n\u001b[0;32m      4\u001b[0m \u001b[38;5;28;01mimport\u001b[39;00m \u001b[38;5;21;01mpandas\u001b[39;00m \u001b[38;5;28;01mas\u001b[39;00m \u001b[38;5;21;01mpd\u001b[39;00m\n",
            "\u001b[1;31mModuleNotFoundError\u001b[0m: No module named 'google.colab'"
          ]
        }
      ],
      "source": [
        "import google.auth\n",
        "from google.colab import auth\n",
        "from google.cloud import bigquery\n",
        "import pandas as pd\n",
        "from sklearn.model_selection import train_test_split\n",
        "from sklearn.preprocessing import LabelEncoder\n",
        "from sklearn.neighbors import KNeighborsClassifier\n",
        "import joblib\n",
        "import numpy as np\n",
        "from sklearn.metrics import mean_squared_error, r2_score"
      ]
    },
    {
      "cell_type": "markdown",
      "metadata": {
        "id": "aqFNjxfF9TRm"
      },
      "source": [
        "#Tratamento da base"
      ]
    },
    {
      "cell_type": "code",
      "execution_count": null,
      "metadata": {
        "id": "evspidQCi9ki"
      },
      "outputs": [],
      "source": [
        "\n",
        "# Autenticar o usuário\n",
        "auth.authenticate_user()\n",
        "\n",
        "# Inicialize um cliente do BigQuery\n",
        "clientbq = bigquery.Client(project='aulafiap-403000')\n"
      ]
    },
    {
      "cell_type": "code",
      "execution_count": null,
      "metadata": {
        "id": "7gIX183xi-s2"
      },
      "outputs": [],
      "source": [
        "# Consulta SQL para selecionar os dados da tabela\n",
        "query = \"\"\"\n",
        "    SELECT *\n",
        "    FROM emf-teacher.trabalho_loans.loan_default\n",
        "\"\"\"\n",
        "\n",
        "query_job = clientbq.query(query)\n",
        "dados = query_job.to_dataframe()\n"
      ]
    },
    {
      "cell_type": "code",
      "execution_count": null,
      "metadata": {
        "colab": {
          "base_uri": "https://localhost:8080/"
        },
        "id": "BjFac11JjA8U",
        "outputId": "5864b6f3-2c64-46c0-c596-81e45694a00e"
      },
      "outputs": [],
      "source": [
        "dados.columns"
      ]
    },
    {
      "cell_type": "code",
      "execution_count": null,
      "metadata": {
        "colab": {
          "base_uri": "https://localhost:8080/",
          "height": 342
        },
        "id": "M-d50rKMjDYj",
        "outputId": "57858a47-47d8-4b8a-a563-1cfcb61bf16d"
      },
      "outputs": [],
      "source": [
        "dados.head(\n",
        ")"
      ]
    },
    {
      "cell_type": "code",
      "execution_count": null,
      "metadata": {
        "colab": {
          "base_uri": "https://localhost:8080/"
        },
        "id": "t7PnYcqtjRY2",
        "outputId": "cd3e59f9-10eb-480e-c6c4-db7c2ce00d1c"
      },
      "outputs": [],
      "source": [
        "#Exibir a quantidade de nulos existentes\n",
        "dados.isnull().sum()"
      ]
    },
    {
      "cell_type": "code",
      "execution_count": null,
      "metadata": {
        "colab": {
          "base_uri": "https://localhost:8080/"
        },
        "id": "U8iayQILjSwp",
        "outputId": "36b8656e-f006-45e7-d7de-e88b5c3b378d"
      },
      "outputs": [],
      "source": [
        "# dados em porcentagem de nulos\n",
        "((dados.isnull().sum()/dados.shape[0]) * 100)"
      ]
    },
    {
      "cell_type": "code",
      "execution_count": null,
      "metadata": {
        "id": "EigroVk4jWeR"
      },
      "outputs": [],
      "source": [
        "dados_filtrados = dados.copy()[['open_credit','Credit_Worthiness','loan_purpose','Gender','loan_type','loan_limit','credit_type','income']]"
      ]
    },
    {
      "cell_type": "code",
      "execution_count": null,
      "metadata": {
        "colab": {
          "base_uri": "https://localhost:8080/"
        },
        "id": "Ts9SgcOyjYOy",
        "outputId": "66ce78b9-14b7-466e-fcdd-0e271594398f"
      },
      "outputs": [],
      "source": [
        "((dados_filtrados.isnull().sum() / dados_filtrados.shape[0]) * 100)"
      ]
    },
    {
      "cell_type": "code",
      "execution_count": null,
      "metadata": {
        "colab": {
          "base_uri": "https://localhost:8080/",
          "height": 424
        },
        "id": "08hBJ4gKjZqS",
        "outputId": "022e22e3-3e00-4f36-dd90-e9525ab30f94"
      },
      "outputs": [],
      "source": [
        "dados_filtrados[['loan_purpose','loan_limit','income']]"
      ]
    },
    {
      "cell_type": "code",
      "execution_count": null,
      "metadata": {
        "colab": {
          "base_uri": "https://localhost:8080/"
        },
        "id": "IrJuijYyjcNm",
        "outputId": "428b1176-1b48-4925-ce5d-bccf0e441eea"
      },
      "outputs": [],
      "source": [
        "dados_filtrados.info()"
      ]
    },
    {
      "cell_type": "code",
      "execution_count": null,
      "metadata": {
        "colab": {
          "base_uri": "https://localhost:8080/"
        },
        "id": "3RVELLY9jdhS",
        "outputId": "03a0aa14-da7f-4e19-b871-92758fd052fe"
      },
      "outputs": [],
      "source": [
        "dados_filtrados['loan_purpose'].unique()"
      ]
    },
    {
      "cell_type": "code",
      "execution_count": null,
      "metadata": {
        "colab": {
          "base_uri": "https://localhost:8080/"
        },
        "id": "lExgM-EEjeyV",
        "outputId": "992e4e43-78de-4036-a8a0-7543adb5a5ac"
      },
      "outputs": [],
      "source": [
        "dados_filtrados['loan_limit'].unique()"
      ]
    },
    {
      "cell_type": "code",
      "execution_count": null,
      "metadata": {
        "id": "9SCmhHq2jgHb"
      },
      "outputs": [],
      "source": [
        "#Tratamento dos dados vazios\n",
        "dados_filtrados.loc[:, 'loan_purpose'] = dados_filtrados.loc[:, 'loan_purpose'].fillna('unknown')"
      ]
    },
    {
      "cell_type": "code",
      "execution_count": null,
      "metadata": {
        "id": "NysDtYOHjhxx"
      },
      "outputs": [],
      "source": [
        "#Tratamento dos dados vazios\n",
        "dados_filtrados.loc[:, 'loan_limit'] = dados_filtrados.loc[:, 'loan_limit'].fillna('unknown')"
      ]
    },
    {
      "cell_type": "code",
      "execution_count": null,
      "metadata": {
        "colab": {
          "base_uri": "https://localhost:8080/"
        },
        "id": "RLxfE5Fe31n4",
        "outputId": "b3436282-580b-4bc7-a989-643f84fb0812"
      },
      "outputs": [],
      "source": [
        "# Calcular a mediana de cada coluna\n",
        "medianas = dados_filtrados['income'].median()\n",
        "\n",
        "# Preencher campos vazios com a mediana de cada coluna\n",
        "dados_filtrados['income'] = dados_filtrados['income'].fillna(medianas)\n",
        "\n",
        "# Exibir o DataFrame preenchido\n",
        "print(dados_filtrados['income'])"
      ]
    },
    {
      "cell_type": "code",
      "execution_count": null,
      "metadata": {
        "colab": {
          "base_uri": "https://localhost:8080/"
        },
        "id": "eBKBYGKEjikT",
        "outputId": "f849f85d-b89a-4dc4-e060-dfefa8f08378"
      },
      "outputs": [],
      "source": [
        "((dados_filtrados.isnull().sum() / dados_filtrados.shape[0]) * 100)"
      ]
    },
    {
      "cell_type": "code",
      "execution_count": null,
      "metadata": {
        "colab": {
          "base_uri": "https://localhost:8080/"
        },
        "id": "XP4dHK8zkBm_",
        "outputId": "2c5a4b1b-2047-4b43-e58f-c9aa2f7419f5"
      },
      "outputs": [],
      "source": [
        "dados_filtrados.info()"
      ]
    },
    {
      "cell_type": "markdown",
      "metadata": {
        "id": "jK4ORPk99hMA"
      },
      "source": [
        "#Feature engineering"
      ]
    },
    {
      "cell_type": "code",
      "execution_count": null,
      "metadata": {
        "id": "z98Z6Mv5kYtX"
      },
      "outputs": [],
      "source": [
        "objetos = dados_filtrados.select_dtypes(include=['object'])\n",
        "objetos = objetos.drop('credit_type',axis=1)\n"
      ]
    },
    {
      "cell_type": "code",
      "execution_count": null,
      "metadata": {
        "colab": {
          "base_uri": "https://localhost:8080/",
          "height": 424
        },
        "id": "04uOQAc3kbDw",
        "outputId": "0d31ba40-089d-45e0-a028-bf3086dc460b"
      },
      "outputs": [],
      "source": [
        "objetos"
      ]
    },
    {
      "cell_type": "code",
      "execution_count": null,
      "metadata": {
        "colab": {
          "base_uri": "https://localhost:8080/"
        },
        "id": "ddMTAbtekg-m",
        "outputId": "80021028-7b71-48e5-bdbb-67749cd5fbd2"
      },
      "outputs": [],
      "source": [
        "objetos.info()"
      ]
    },
    {
      "cell_type": "code",
      "execution_count": null,
      "metadata": {
        "id": "S-61WtnqkicC"
      },
      "outputs": [],
      "source": [
        "le = LabelEncoder()\n",
        "# Inicialize um DataFrame vazio para armazenar os objetos transformados\n",
        "objetos_transformados = pd.DataFrame()\n",
        "\n",
        "for coluna in objetos.columns:\n",
        "    # Aplique o LabelEncoder em cada coluna e adicione ao DataFrame objetos_transformados\n",
        "    objetos_transformados[coluna] = le.fit_transform(objetos[coluna])\n",
        "\n"
      ]
    },
    {
      "cell_type": "markdown",
      "metadata": {
        "id": "_m6QZG7q9n9Q"
      },
      "source": [
        "#Criação do set de feautures e Target"
      ]
    },
    {
      "cell_type": "code",
      "execution_count": null,
      "metadata": {
        "id": "M7XoTf_Pkxnk"
      },
      "outputs": [],
      "source": [
        "X= pd.concat([objetos_transformados,dados_filtrados['income']],axis=1)\n",
        "\n",
        "converter_target = {'EQUI': 1 , 'CRIF': 2, 'CIB': 3, 'EXP': 4}\n",
        "y= dados_filtrados['credit_type'].map(converter_target)\n"
      ]
    },
    {
      "cell_type": "markdown",
      "metadata": {
        "id": "MrG_YajF-r9q"
      },
      "source": [
        "#Treinar Cluster"
      ]
    },
    {
      "cell_type": "code",
      "execution_count": null,
      "metadata": {
        "id": "2LpWDoIGn-ZC"
      },
      "outputs": [],
      "source": [
        "X_train, X_test, y_train, y_test = train_test_split(X, y, test_size=0.2, random_state=42)\n",
        "# Criar cluster KNN\n",
        "knn = KNeighborsClassifier(n_neighbors = 5)\n",
        "# Treinar KNN\n",
        "knn.fit(X_train,y_train)\n",
        "y_pred = knn.predict(X_test)"
      ]
    },
    {
      "cell_type": "code",
      "execution_count": null,
      "metadata": {
        "colab": {
          "base_uri": "https://localhost:8080/"
        },
        "id": "miMBBG2T3GHn",
        "outputId": "bdf48055-b328-4168-d76b-5130d602c6ed"
      },
      "outputs": [],
      "source": [
        "knn.predict(X_test)[0:5]"
      ]
    },
    {
      "cell_type": "markdown",
      "metadata": {
        "id": "-DM76N7C-ut6"
      },
      "source": [
        "#Salvar modelo"
      ]
    },
    {
      "cell_type": "code",
      "execution_count": null,
      "metadata": {
        "colab": {
          "base_uri": "https://localhost:8080/"
        },
        "id": "etVmC5843FJP",
        "outputId": "853e339d-4d63-4044-c7bb-0b03708532dc"
      },
      "outputs": [],
      "source": [
        "joblib.dump(knn, 'cluster_knn.pkl')"
      ]
    },
    {
      "cell_type": "markdown",
      "metadata": {
        "id": "ybqsj3l95Hoi"
      },
      "source": [
        "#Metricas do modelo"
      ]
    },
    {
      "cell_type": "code",
      "execution_count": null,
      "metadata": {
        "colab": {
          "base_uri": "https://localhost:8080/"
        },
        "id": "Xj5p1PKN5TBL",
        "outputId": "a85a1376-d1db-4be6-a7a2-0a6831ff1a00"
      },
      "outputs": [],
      "source": [
        "# Calcular o RMSE\n",
        "rmse = np.sqrt(mean_squared_error(y_test, y_pred))\n",
        "\n",
        "# Calcular o R²\n",
        "r2 = r2_score(y_test, y_pred)\n",
        "\n",
        "print(f'RMSE: {rmse}')\n",
        "print(f'R²: {r2}')"
      ]
    },
    {
      "cell_type": "markdown",
      "metadata": {
        "id": "4Tr-WPBcNJJE"
      },
      "source": []
    }
  ],
  "metadata": {
    "colab": {
      "provenance": []
    },
    "kernelspec": {
      "display_name": "Python 3",
      "name": "python3"
    },
    "language_info": {
      "name": "python"
    }
  },
  "nbformat": 4,
  "nbformat_minor": 0
}
